{
 "cells": [
  {
   "cell_type": "code",
   "execution_count": 9,
   "id": "825bc076-1aef-45a9-b5a6-ebe9bd9cc51d",
   "metadata": {},
   "outputs": [],
   "source": [
    "### THIS IS A TESTING MODULE ONLY ###"
   ]
  },
  {
   "cell_type": "code",
   "execution_count": 4,
   "id": "4bb477b8-732e-4229-8a00-76dbefbd938b",
   "metadata": {},
   "outputs": [],
   "source": [
    "from ProfileBuilder import UserProfile, Collector\n",
    "uprofile = UserProfile.UserProfile(\"joHN\",30,True,False,3)"
   ]
  },
  {
   "cell_type": "code",
   "execution_count": 5,
   "id": "cf565c1d-98cc-4bab-b7ca-139df23607e3",
   "metadata": {},
   "outputs": [
    {
     "name": "stdout",
     "output_type": "stream",
     "text": [
      "User Details \n",
      "Name : joHN\n",
      "Current ICBC License : Novice's License\n",
      "Is Reciprocal DL : Yes\n",
      "Foreign License from Reciprocal Countries : No\n"
     ]
    }
   ],
   "source": [
    "print(str(uprofile))"
   ]
  },
  {
   "cell_type": "code",
   "execution_count": 5,
   "id": "a546645c-ccf2-465c-9f10-de3da959968f",
   "metadata": {},
   "outputs": [
    {
     "name": "stdout",
     "output_type": "stream",
     "text": [
      "print from advisor\n"
     ]
    }
   ],
   "source": [
    "from Analyzer import Advisor\n",
    "Advisor.advisor_print()"
   ]
  },
  {
   "cell_type": "code",
   "execution_count": 25,
   "id": "69df85f9-f608-482b-84c8-c0bc026d75e0",
   "metadata": {},
   "outputs": [
    {
     "name": "stdout",
     "output_type": "stream",
     "text": [
      "print from advisor\n",
      "Good day!\n"
     ]
    }
   ],
   "source": [
    "from Analyzer import Advisor\n",
    "Advisor.advisor_print()\n",
    "Advisor.kttest1()"
   ]
  },
  {
   "cell_type": "code",
   "execution_count": 2,
   "id": "76f672a9-236e-46bb-8a4c-6ad66b93db6b",
   "metadata": {},
   "outputs": [
    {
     "name": "stdout",
     "output_type": "stream",
     "text": [
      "Resource Type :MISC\n"
     ]
    }
   ],
   "source": [
    "res.display()"
   ]
  },
  {
   "cell_type": "code",
   "execution_count": 1,
   "id": "2740a724-818c-40ed-b40b-d3afd9eeb474",
   "metadata": {},
   "outputs": [],
   "source": [
    "from Analyzer import Advisor, Resource\n",
    "#ps = Resource.PrepResource(1,\"http://www.g.com\")"
   ]
  },
  {
   "cell_type": "code",
   "execution_count": 2,
   "id": "af604cfa-a227-4d82-92a1-7e7319b64302",
   "metadata": {},
   "outputs": [
    {
     "name": "stdout",
     "output_type": "stream",
     "text": [
      "Resource Category : Online Services Resources\n",
      "Resouces List : \n",
      "- For stage :  1\n",
      "Kelowna Best Driving School [MISC] : https://threebestrated.ca/driving-schools-in-kelowna-bc\n",
      "ICBC Book a road test [MISC] : https://www.icbc.com/driver-licensing/visit-dl-office/Pages/Book-a-road-test.aspx\n"
     ]
    }
   ],
   "source": [
    "res2 = [\n",
    "        ['Kelowna Best Driving School','https://threebestrated.ca/driving-schools-in-kelowna-bc'],\n",
    "        ['ICBC Book a road test','https://www.icbc.com/driver-licensing/visit-dl-office/Pages/Book-a-road-test.aspx']\n",
    "       ]\n",
    "os = Resource.OLResource(1,res2)\n",
    "os.display()\n"
   ]
  },
  {
   "cell_type": "code",
   "execution_count": 20,
   "id": "e2c99e82-8e3c-4d6a-a19e-28fae71269a9",
   "metadata": {},
   "outputs": [],
   "source": [
    "res1 = [\n",
    "        ['Learn stage 1/Knowledge Test','http://www.stage1.com'],\n",
    "        ['Kelowna Best Driving School','https://threebestrated.ca/driving-schools-in-kelowna-bc'],\n",
    "        ['BC Driving Tips','https://www.youtube.com/watch?v=UohMY0CT_V8']\n",
    "        ]\n",
    "S1Resource = Resource.PrepResource(1,res1)\n",
    "    \n",
    "res2 = [\n",
    "        ['Learn stage 2/RoadTest7','http://www.stage2.com'],\n",
    "        ['Kelowna Best Driving School','https://threebestrated.ca/driving-schools-in-kelowna-bc'],\n",
    "        ['BC Driving Tips','https://www.youtube.com/watch?v=UohMY0CT_V8']\n",
    "        ]\n",
    "S2Resource = Resource.PrepResource(2,res2)\n",
    "    "
   ]
  },
  {
   "cell_type": "code",
   "execution_count": 22,
   "id": "1e7570ab-74f4-4542-82e9-02589f4bcceb",
   "metadata": {},
   "outputs": [
    {
     "name": "stdout",
     "output_type": "stream",
     "text": [
      "Resource Category : Preparatory Resources\n",
      "Resouces List : \n",
      "- For stage :  1\n",
      "Learn stage 1/Knowledge Test [MISC] : http://www.stage1.com\n",
      "Kelowna Best Driving School [MISC] : https://threebestrated.ca/driving-schools-in-kelowna-bc\n",
      "BC Driving Tips [MISC] : https://www.youtube.com/watch?v=UohMY0CT_V8\n"
     ]
    }
   ],
   "source": [
    "S1Resource.display()"
   ]
  },
  {
   "cell_type": "code",
   "execution_count": 23,
   "id": "618f8ac4-3263-4e5c-849a-378ddbd92d91",
   "metadata": {},
   "outputs": [
    {
     "name": "stdout",
     "output_type": "stream",
     "text": [
      "Resource Category : Preparatory Resources\n",
      "Resouces List : \n",
      "- For stage :  2\n",
      "Learn stage 2/RoadTest7 [MISC] : http://www.stage2.com\n",
      "Kelowna Best Driving School [MISC] : https://threebestrated.ca/driving-schools-in-kelowna-bc\n",
      "BC Driving Tips [MISC] : https://www.youtube.com/watch?v=UohMY0CT_V8\n"
     ]
    }
   ],
   "source": [
    "S2Resource.display()"
   ]
  },
  {
   "cell_type": "code",
   "execution_count": 9,
   "id": "9e764bf1-1598-4978-9773-b5c30b61941c",
   "metadata": {},
   "outputs": [
    {
     "name": "stdout",
     "output_type": "stream",
     "text": [
      "print from advisor\n",
      "Resource Category : Preparatory Resources\n",
      "Resouces List : \n",
      "- For stage :  1\n",
      "Learn stage 1/Knowledge Test [MISC] : http://www.stage1.com\n",
      "Kelowna Best Driving School [MISC] : https://threebestrated.ca/driving-schools-in-kelowna-bc\n",
      "BC Driving Tips [MISC] : https://www.youtube.com/watch?v=UohMY0CT_V8\n"
     ]
    }
   ],
   "source": [
    "from Analyzer import Advisor, Resource\n",
    "Advisor.advisor_print()"
   ]
  },
  {
   "cell_type": "code",
   "execution_count": 8,
   "id": "0d10a084-6a13-4644-b5ee-a3c8a772dc0c",
   "metadata": {},
   "outputs": [
    {
     "name": "stdout",
     "output_type": "stream",
     "text": [
      "Resource Category : Preparatory Resources\n",
      "Resouces List : \n",
      "- For stage :  1\n",
      "Learn stage 1/Knowledge Test [MISC] : http://www.stage1.com\n",
      "Kelowna Best Driving School [MISC] : https://threebestrated.ca/driving-schools-in-kelowna-bc\n",
      "BC Driving Tips [MISC] : https://www.youtube.com/watch?v=UohMY0CT_V8\n"
     ]
    }
   ],
   "source": [
    "from Analyzer import Advisor, Resource\n",
    "r=Advisor.populatePrepResources(1)\n",
    "r.display()"
   ]
  }
 ],
 "metadata": {
  "kernelspec": {
   "display_name": "Python 3 (ipykernel)",
   "language": "python",
   "name": "python3"
  },
  "language_info": {
   "codemirror_mode": {
    "name": "ipython",
    "version": 3
   },
   "file_extension": ".py",
   "mimetype": "text/x-python",
   "name": "python",
   "nbconvert_exporter": "python",
   "pygments_lexer": "ipython3",
   "version": "3.9.13"
  }
 },
 "nbformat": 4,
 "nbformat_minor": 5
}
